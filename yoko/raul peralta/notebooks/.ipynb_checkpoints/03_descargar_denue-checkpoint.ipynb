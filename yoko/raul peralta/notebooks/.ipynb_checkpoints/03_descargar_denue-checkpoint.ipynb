{
 "cells": [
  {
   "cell_type": "code",
   "execution_count": 3,
   "metadata": {},
   "outputs": [],
   "source": [
    "import os\n",
    "import joblib\n",
    "import requests\n",
    "import zipfile\n",
    "import io\n",
    "import pandas as pd\n",
    "from pathlib import Path\n"
   ]
  },
  {
   "cell_type": "code",
   "execution_count": 2,
   "metadata": {},
   "outputs": [
    {
     "name": "stdout",
     "output_type": "stream",
     "text": [
      "200 01\n",
      "200 02\n",
      "200 03\n",
      "200 04\n",
      "200 05\n",
      "200 06\n",
      "200 07\n",
      "200 08\n",
      "200 09\n",
      "200 10\n",
      "200 11\n",
      "200 12\n",
      "200 13\n",
      "200 14\n",
      "200 15\n",
      "200 16\n",
      "200 17\n",
      "200 18\n",
      "200 19\n",
      "200 20\n",
      "200 21\n",
      "200 22\n",
      "200 23\n",
      "200 24\n",
      "200 25\n",
      "200 26\n",
      "200 27\n",
      "200 28\n",
      "200 29\n",
      "200 30\n",
      "200 31\n",
      "200 32\n"
     ]
    }
   ],
   "source": [
    "denue_path = '../data/external/denue/'\n",
    "url_base = 'http://www.beta.inegi.org.mx/contenidos/masiva/denue/denue_{0:02}_csv.zip'\n",
    "\n",
    "for i in range(1, 33):\n",
    "    url = url_base.format(i)\n",
    "    \n",
    "    folder_path = os.path.join(denue_path, f'{i:02}')\n",
    "    if not os.path.exists(folder_path):\n",
    "        os.makedirs(folder_path)\n",
    "\n",
    "    r = requests.get(url)\n",
    "    print(r.status_code, f'{i:02}')\n",
    "    with zipfile.ZipFile(io.BytesIO(r.content)) as zfile:\n",
    "        zfile.extractall(folder_path)\n"
   ]
  },
  {
   "cell_type": "code",
   "execution_count": null,
   "metadata": {},
   "outputs": [],
   "source": [
    "# Procesar denue"
   ]
  },
  {
   "cell_type": "code",
   "execution_count": null,
   "metadata": {},
   "outputs": [],
   "source": [
    "def cargar_denue(path):\n",
    "    cols = [\n",
    "        'id',\n",
    "         'nom_estab',\n",
    "         'raz_social',\n",
    "         'codigo_act',\n",
    "         'nombre_act',\n",
    "         'per_ocu',\n",
    "         'tipo_vial',\n",
    "         'nom_vial',\n",
    "         'tipo_v_e_1',\n",
    "         'nom_v_e_1',\n",
    "         'tipo_v_e_2',\n",
    "         'nom_v_e_2',\n",
    "         'tipo_v_e_3',\n",
    "         'nom_v_e_3',\n",
    "         'numero_ext',\n",
    "         'letra_ext',\n",
    "         'edificio',\n",
    "         'edificio_e',\n",
    "         'numero_int',\n",
    "         'letra_int',\n",
    "         'tipo_asent',\n",
    "         'nomb_asent',\n",
    "         'tipoCenCom',\n",
    "         'nom_CenCom',\n",
    "         'num_local',\n",
    "         'cve_ent',\n",
    "         'cve_mun',\n",
    "         'cve_loc',\n",
    "         'ageb',\n",
    "         'manzana',\n",
    "         'tipoUniEco',\n",
    "         'latitud',\n",
    "         'longitud',\n",
    "         'fecha_alta'\n",
    "    ]\n",
    "    df = pd.read_csv(\n",
    "        path, error_bad_lines=False, usecols=cols,\n",
    "        dtype={'codigo_act': str, 'cve_ent': str, 'cve_mun': str, 'cve_loc': str, 'ageb': str, 'manzana': str}\n",
    "    )\n",
    "    cvegeo = df.cve_ent + df.cve_mun + df.cve_loc + df.ageb + df.manzana\n",
    "    df = df.assign(cvegeo=cvegeo)\n",
    "    df = df.drop(['cve_ent', 'cve_mun', 'cve_loc', 'ageb', 'manzana'], axis=1)\n",
    "    return df\n",
    "\n",
    "denue_path = Path('../data/external/denue/').resolve()\n",
    "\n",
    "\n",
    "dfs = joblib.Parallel(n_jobs=-1, verbose=0)(\n",
    "    joblib.delayed(cargar_denue)(path)\n",
    "    for path in denue_path.glob('*/conjunto_de_datos/*.csv')\n",
    ")\n",
    "\n",
    "df_denue = pd.concat(dfs, axis=0, ignore_index=True)\n",
    "df_denue = df_denue.loc[~df_denue.cvegeo.isnull()]\n",
    "print(df_denue.shape)\n",
    "df_denue.head()"
   ]
  },
  {
   "cell_type": "code",
   "execution_count": null,
   "metadata": {},
   "outputs": [],
   "source": [
    "df_denue.to_csv('../data/external/denue_completo.csv', encoding='utf-8', index=False, quoting=1)"
   ]
  }
 ],
 "metadata": {
  "kernelspec": {
   "display_name": "Python 3",
   "language": "python",
   "name": "python3"
  },
  "language_info": {
   "codemirror_mode": {
    "name": "ipython",
    "version": 3
   },
   "file_extension": ".py",
   "mimetype": "text/x-python",
   "name": "python",
   "nbconvert_exporter": "python",
   "pygments_lexer": "ipython3",
   "version": "3.6.5"
  }
 },
 "nbformat": 4,
 "nbformat_minor": 2
}
